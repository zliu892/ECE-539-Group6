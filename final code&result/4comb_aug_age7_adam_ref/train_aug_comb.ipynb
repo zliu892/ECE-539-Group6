{
  "nbformat": 4,
  "nbformat_minor": 0,
  "metadata": {
    "colab": {
      "name": "train_aug_comb.ipynb",
      "provenance": [],
      "collapsed_sections": []
    },
    "kernelspec": {
      "name": "python3",
      "display_name": "Python 3"
    },
    "language_info": {
      "name": "python"
    },
    "accelerator": "GPU"
  },
  "cells": [
    {
      "cell_type": "code",
      "execution_count": null,
      "metadata": {
        "colab": {
          "base_uri": "https://localhost:8080/"
        },
        "id": "1MGXn-UdfyEq",
        "outputId": "58105302-11f2-4921-e898-5fb70f0c310f"
      },
      "outputs": [
        {
          "output_type": "stream",
          "name": "stdout",
          "text": [
            "Mounted at /content/drive\n"
          ]
        }
      ],
      "source": [
        "from google.colab import drive\n",
        "drive.mount('/content/drive')"
      ]
    },
    {
      "cell_type": "code",
      "source": [
        "# Imports\n",
        "# Please refer to requirements.txt for a full list of all libraries and their versions used in this project.\n",
        "\n",
        "import pandas as pd\n",
        "import numpy as np\n",
        "import matplotlib.pyplot as plt\n",
        "\n",
        "import cv2\n",
        "import os\n",
        "from zipfile import ZipFile\n",
        "import time\n",
        "from datetime import datetime\n",
        "import itertools\n",
        "\n",
        "from sklearn.model_selection import train_test_split\n",
        "from sklearn.metrics import confusion_matrix\n",
        "\n",
        "import tensorflow as tf\n",
        "from tensorflow.keras.models import Sequential\n",
        "from tensorflow.keras.layers import Dense\n",
        "from tensorflow.keras.layers import Conv2D, AveragePooling2D, GlobalAveragePooling2D\n",
        "from tensorflow.keras import utils\n",
        "from tensorflow.keras.callbacks import TensorBoard, ModelCheckpoint\n",
        "\n",
        "from tensorflow.keras.models import Model\n",
        "from tensorflow.keras.layers import Conv2D,SeparableConv2D,MaxPooling2D,BatchNormalization,SpatialDropout2D,Dropout,Activation,Dense,Lambda,Input,Flatten\n",
        "from tensorflow.keras.regularizers import l2\n",
        "\n",
        "import tensorflow as tf\n",
        "\n",
        "# Setting random seeds to reduce the amount of randomness in the neural net weights and results.\n",
        "# The results may still not be exactly reproducible.\n",
        "np.random.seed(42)\n",
        "tf.random.set_seed(42)"
      ],
      "metadata": {
        "id": "3HrBY7Lef6d6"
      },
      "execution_count": null,
      "outputs": []
    },
    {
      "cell_type": "code",
      "source": [
        "# Testing to ensure GPU is being utilized.\n",
        "\n",
        "device_name = tf.test.gpu_device_name()\n",
        "if device_name != '/device:GPU:0':\n",
        "    raise SystemError('GPU device not found')\n",
        "print('Found GPU at: {}'.format(device_name))"
      ],
      "metadata": {
        "colab": {
          "base_uri": "https://localhost:8080/"
        },
        "id": "Upg0WnrVf9t-",
        "outputId": "88de0599-3426-4094-9471-8d69f64ed8c9"
      },
      "execution_count": null,
      "outputs": [
        {
          "output_type": "stream",
          "name": "stdout",
          "text": [
            "Found GPU at: /device:GPU:0\n"
          ]
        }
      ]
    },
    {
      "cell_type": "code",
      "source": [
        "# Unzipping the dataset file combined_faces.zip\n",
        "\n",
        "combined_faces_zip_path = \"/content/drive/My Drive/539/combined_faces.zip\"\n",
        "\n",
        "with ZipFile(combined_faces_zip_path, 'r') as myzip:\n",
        "    myzip.extractall()\n",
        "    print('Done unzipping combined_faces.zip')\n",
        "\n",
        "\n",
        "# Unzipping the dataset file combined_faces.zip\n",
        "\n",
        "combined_faces_zip_path = \"/content/drive/My Drive/539/combined_faces_train_augmented.zip\"\n",
        "\n",
        "with ZipFile(combined_faces_zip_path, 'r') as myzip:\n",
        "    myzip.extractall()\n",
        "    print('Done unzipping combined_faces_train_augmented.zip')"
      ],
      "metadata": {
        "colab": {
          "base_uri": "https://localhost:8080/"
        },
        "id": "gkOAFhx_f_rJ",
        "outputId": "5e4e5c13-86ef-4749-ba3a-dfa781b96a8c"
      },
      "execution_count": null,
      "outputs": [
        {
          "output_type": "stream",
          "name": "stdout",
          "text": [
            "Done unzipping combined_faces.zip\n",
            "Done unzipping combined_faces_train_augmented.zip\n"
          ]
        }
      ]
    },
    {
      "cell_type": "code",
      "source": [
        "# Importing the augmented training dataset and testing dataset to create tensors of images using the filename paths.\n",
        "\n",
        "train_aug_df = pd.read_csv(\"/content/drive/My Drive/539/images_filenames_labels_train_augmented.csv\")\n",
        "test_df = pd.read_csv(\"/content/drive/My Drive/539/images_filenames_labels_test.csv\")\n",
        "\n",
        "# Dropping the age column since classes of age-ranges have been re-distributed from 11 to 7 classes.\n",
        "\n",
        "train_aug_df.drop(columns=['target'], inplace=True)\n",
        "\n",
        "# Dropping the age column since classes of age-ranges have been re-distributed from 11 to 7 classes.\n",
        "\n",
        "test_df.drop(columns=['target'], inplace=True)"
      ],
      "metadata": {
        "id": "fo31ndUfgPQx"
      },
      "execution_count": null,
      "outputs": []
    },
    {
      "cell_type": "code",
      "source": [
        "# Defining a function to return the class labels corresponding to the re-distributed 7 age-ranges.\n",
        "\n",
        "def class_labels_reassign(age):\n",
        "\n",
        "    if 1 <= age <= 2:\n",
        "        return 0\n",
        "    elif 3 <= age <= 9:\n",
        "        return 1\n",
        "    elif 10 <= age <= 20:\n",
        "        return 2\n",
        "    elif 21 <= age <= 27:\n",
        "        return 3\n",
        "    elif 28 <= age <= 45:\n",
        "        return 4\n",
        "    elif 46 <= age <= 65:\n",
        "        return 5\n",
        "    else:\n",
        "        return 6\n",
        "\n",
        "train_aug_df['target'] = train_aug_df['age'].map(class_labels_reassign)\n",
        "test_df['target'] = test_df['age'].map(class_labels_reassign)"
      ],
      "metadata": {
        "id": "2cYv4aLqgU9V"
      },
      "execution_count": null,
      "outputs": []
    },
    {
      "cell_type": "code",
      "source": [
        "train_aug_df['target'].value_counts(normalize=True)"
      ],
      "metadata": {
        "colab": {
          "base_uri": "https://localhost:8080/"
        },
        "id": "Zf9ctDklgYJE",
        "outputId": "5dc3cb3f-4142-4d59-e283-c35ab584b20d"
      },
      "execution_count": null,
      "outputs": [
        {
          "output_type": "execute_result",
          "data": {
            "text/plain": [
              "4    0.279382\n",
              "3    0.199821\n",
              "5    0.167186\n",
              "0    0.095303\n",
              "2    0.093682\n",
              "1    0.084083\n",
              "6    0.080543\n",
              "Name: target, dtype: float64"
            ]
          },
          "metadata": {},
          "execution_count": 7
        }
      ]
    },
    {
      "cell_type": "code",
      "source": [
        "test_df['target'].value_counts(normalize=True)"
      ],
      "metadata": {
        "colab": {
          "base_uri": "https://localhost:8080/"
        },
        "id": "Me0buA68gntf",
        "outputId": "001156cd-c148-47e3-b8f6-e6492d65ea36"
      },
      "execution_count": null,
      "outputs": [
        {
          "output_type": "execute_result",
          "data": {
            "text/plain": [
              "4    0.279415\n",
              "3    0.199781\n",
              "5    0.167131\n",
              "0    0.095361\n",
              "2    0.093669\n",
              "1    0.084113\n",
              "6    0.080530\n",
              "Name: target, dtype: float64"
            ]
          },
          "metadata": {},
          "execution_count": 8
        }
      ]
    },
    {
      "cell_type": "code",
      "source": [
        "# Converting the filenames and target class labels into lists for augmented train and test datasets.\n",
        "\n",
        "train_aug_filenames_list = list(train_aug_df['filename'])\n",
        "train_aug_labels_list = list(train_aug_df['target'])\n",
        "\n",
        "test_filenames_list = list(test_df['filename'])\n",
        "test_labels_list = list(test_df['target'])\n",
        "\n",
        "# Creating tensorflow constants of filenames and labels for augmented train and test datasets from the lists defined above.\n",
        "\n",
        "train_aug_filenames_tensor = tf.constant(train_aug_filenames_list)\n",
        "train_aug_labels_tensor = tf.constant(train_aug_labels_list)\n",
        "\n",
        "test_filenames_tensor = tf.constant(test_filenames_list)\n",
        "test_labels_tensor = tf.constant(test_labels_list)"
      ],
      "metadata": {
        "id": "piaR-IMsgp2V"
      },
      "execution_count": null,
      "outputs": []
    },
    {
      "cell_type": "code",
      "source": [
        "# Defining a function to read the image, decode the image from given tensor and one-hot encode the image label class.\n",
        "# Changing the channels para in tf.io.decode_jpeg from 3 to 1 changes the output images from RGB coloured to grayscale.\n",
        "\n",
        "num_classes = 7\n",
        "\n",
        "def _parse_function(filename, label):\n",
        "    \n",
        "    image_string = tf.io.read_file(filename)\n",
        "    image_decoded = tf.io.decode_jpeg(image_string, channels=1)    # channels=1 to convert to grayscale, channels=3 to convert to RGB.\n",
        "    image_resized = tf.image.resize(image_decoded, [98, 98])\n",
        "    label = tf.one_hot(label, num_classes)\n",
        "\n",
        "    return image_decoded, label"
      ],
      "metadata": {
        "id": "Wh6ZM7dDgw0N"
      },
      "execution_count": null,
      "outputs": []
    },
    {
      "cell_type": "code",
      "source": [
        "# Getting the dataset ready for the neural network.\n",
        "# Using the tensor vectors defined above, accessing the images in the dataset and passing them through the function defined above.\n",
        "\n",
        "train_aug_dataset = tf.data.Dataset.from_tensor_slices((train_aug_filenames_tensor, train_aug_labels_tensor))\n",
        "train_aug_dataset = train_aug_dataset.map(_parse_function)\n",
        "# train_aug_dataset = train_aug_dataset.repeat(3)\n",
        "train_aug_dataset = train_aug_dataset.batch(512)    # Same as batch_size hyperparameter in model.fit() below.\n",
        "\n",
        "test_dataset = tf.data.Dataset.from_tensor_slices((test_filenames_tensor, test_labels_tensor))\n",
        "test_dataset = test_dataset.map(_parse_function)\n",
        "# test_dataset = test_dataset.repeat(3)\n",
        "test_dataset = test_dataset.batch(512)    # Same as batch_size hyperparameter in model.fit() below."
      ],
      "metadata": {
        "id": "7RrOAuFPg01N"
      },
      "execution_count": null,
      "outputs": []
    },
    {
      "cell_type": "code",
      "source": [
        "# Defining the architecture of the sequential neural network.\n",
        "\n",
        "final_cnn = Sequential()\n",
        "\n",
        "# Input layer with 32 filters, followed by an AveragePooling2D layer.\n",
        "final_cnn.add(Conv2D(filters=32, kernel_size=3, activation='relu', input_shape=(98, 98, 1)))    # 3rd dim = 1 for grayscale images.\n",
        "final_cnn.add(AveragePooling2D(pool_size=(2,2)))\n",
        "\n",
        "# Three Conv2D layers with filters increasing by a factor of 2 for every successive Conv2D layer.\n",
        "final_cnn.add(Conv2D(filters=64, kernel_size=3, activation='relu'))\n",
        "final_cnn.add(AveragePooling2D(pool_size=(2,2)))\n",
        "\n",
        "final_cnn.add(Conv2D(filters=128, kernel_size=3, activation='relu'))\n",
        "final_cnn.add(AveragePooling2D(pool_size=(2,2)))\n",
        "\n",
        "final_cnn.add(Conv2D(filters=256, kernel_size=3, activation='relu'))\n",
        "final_cnn.add(AveragePooling2D(pool_size=(2,2)))\n",
        "\n",
        "# A GlobalAveragePooling2D layer before going into Dense layers below.\n",
        "# GlobalAveragePooling2D layer gives no. of outputs equal to no. of filters in last Conv2D layer above (256).\n",
        "final_cnn.add(GlobalAveragePooling2D())\n",
        "\n",
        "# One Dense layer with 132 nodes so as to taper down the no. of nodes from no. of outputs of GlobalAveragePooling2D layer above towards no. of nodes in output layer below (7).\n",
        "final_cnn.add(Dense(132, activation='relu'))\n",
        "\n",
        "# Output layer with 7 nodes (equal to the no. of classes).\n",
        "final_cnn.add(Dense(7, activation='softmax'))\n",
        "\n",
        "final_cnn.summary()"
      ],
      "metadata": {
        "colab": {
          "base_uri": "https://localhost:8080/"
        },
        "id": "vU8nRxLAUQ8C",
        "outputId": "5d982103-5da2-4168-b895-c18ac59ac21a"
      },
      "execution_count": null,
      "outputs": [
        {
          "output_type": "stream",
          "name": "stdout",
          "text": [
            "Model: \"sequential\"\n",
            "_________________________________________________________________\n",
            " Layer (type)                Output Shape              Param #   \n",
            "=================================================================\n",
            " conv2d (Conv2D)             (None, 96, 96, 32)        320       \n",
            "                                                                 \n",
            " average_pooling2d (AverageP  (None, 48, 48, 32)       0         \n",
            " ooling2D)                                                       \n",
            "                                                                 \n",
            " conv2d_1 (Conv2D)           (None, 46, 46, 64)        18496     \n",
            "                                                                 \n",
            " average_pooling2d_1 (Averag  (None, 23, 23, 64)       0         \n",
            " ePooling2D)                                                     \n",
            "                                                                 \n",
            " conv2d_2 (Conv2D)           (None, 21, 21, 128)       73856     \n",
            "                                                                 \n",
            " average_pooling2d_2 (Averag  (None, 10, 10, 128)      0         \n",
            " ePooling2D)                                                     \n",
            "                                                                 \n",
            " conv2d_3 (Conv2D)           (None, 8, 8, 256)         295168    \n",
            "                                                                 \n",
            " average_pooling2d_3 (Averag  (None, 4, 4, 256)        0         \n",
            " ePooling2D)                                                     \n",
            "                                                                 \n",
            " global_average_pooling2d (G  (None, 256)              0         \n",
            " lobalAveragePooling2D)                                          \n",
            "                                                                 \n",
            " dense (Dense)               (None, 132)               33924     \n",
            "                                                                 \n",
            " dense_1 (Dense)             (None, 7)                 931       \n",
            "                                                                 \n",
            "=================================================================\n",
            "Total params: 422,695\n",
            "Trainable params: 422,695\n",
            "Non-trainable params: 0\n",
            "_________________________________________________________________\n"
          ]
        }
      ]
    },
    {
      "cell_type": "code",
      "source": [
        "# A callback is a set of functions to be applied at given stages of the training procedure.\n",
        "\n",
        "import math\n",
        "from tensorflow.keras.optimizers import Adam\n",
        "from tensorflow.keras.callbacks import ModelCheckpoint\n",
        "from tensorflow.keras.callbacks import LearningRateScheduler\n",
        "\n",
        "#  When training a neural network, the learning rate is often the most important \n",
        "# hyperparameter to tune. When training deep neural networks, it is often useful \n",
        "# to reduce learning rate as the training progresses.\n",
        "\n",
        "# LRS in Keras reduces the learning rate by a certain factor after certain no of epochs\n",
        "\n",
        "def step_decay(epoch):\n",
        "\tinitial_lrate = 0.008\n",
        "\tdrop = 0.5\n",
        "\tepochs_drop = 5.0\n",
        "\tlrate = initial_lrate * math.pow(drop, math.floor((1+epoch)/epochs_drop))\n",
        "\treturn lrate      \n",
        "\n",
        "opt = Adam(lr=0.0)                                     # 0.0 here signifies this is not to be used\n",
        "lrate = LearningRateScheduler(step_decay)\n",
        "\n",
        "\n",
        "# final_cnn.compile(optimizer=opt, \n",
        "#               loss='categorical_crossentropy',\n",
        "#               metrics=['accuracy'])\n",
        "\n",
        "# callbacks_list = [lrate]\n",
        "\n",
        "# # It is this callback that allows a function to invoke during program execution."
      ],
      "metadata": {
        "colab": {
          "base_uri": "https://localhost:8080/"
        },
        "id": "qpZoSge-g4ok",
        "outputId": "73666675-6f07-4c52-a587-2a0a2f00309e"
      },
      "execution_count": null,
      "outputs": [
        {
          "output_type": "stream",
          "name": "stderr",
          "text": [
            "/usr/local/lib/python3.7/dist-packages/keras/optimizer_v2/adam.py:105: UserWarning: The `lr` argument is deprecated, use `learning_rate` instead.\n",
            "  super(Adam, self).__init__(name, **kwargs)\n"
          ]
        }
      ]
    },
    {
      "cell_type": "code",
      "source": [
        "# Compiling the above created CNN architecture.\n",
        "\n",
        "final_cnn.compile(loss='categorical_crossentropy', optimizer='adam', metrics=['accuracy'])\n",
        "\n",
        "# Creating a TensorBoard callback object and saving it at the desired location.\n",
        "\n",
        "tensorboard = TensorBoard(log_dir=f\"/content/drive/My Drive/539/cnn_logs/final_cnn\")\n",
        "\n",
        "# Creating a ModelCheckpoint callback object to save the model according to the value of val_accuracy.\n",
        "\n",
        "checkpoint = ModelCheckpoint(filepath=f\"/content/drive/My Drive/539/final_cnn_model_checkpoint.h5\",\n",
        "                             monitor='val_accuracy',\n",
        "                             save_best_only=True,\n",
        "                             save_weights_only=False,\n",
        "                             verbose=1\n",
        "                            )"
      ],
      "metadata": {
        "id": "zyn86zy760-6"
      },
      "execution_count": null,
      "outputs": []
    },
    {
      "cell_type": "code",
      "source": [
        "# Fitting the above created CNN model.\n",
        "\n",
        "final_cnn_history = final_cnn.fit(train_aug_dataset,\n",
        "                                  batch_size=512,\n",
        "                                  validation_data=test_dataset,\n",
        "                                  epochs=60,\n",
        "                                  callbacks=[tensorboard, checkpoint],\n",
        "                                  shuffle=False    # shuffle=False to reduce randomness and increase reproducibility\n",
        "                                 )"
      ],
      "metadata": {
        "colab": {
          "base_uri": "https://localhost:8080/"
        },
        "id": "sgZUuXQ1g7Rn",
        "outputId": "98932763-9d57-42e5-fd5d-4b0268a54123"
      },
      "execution_count": null,
      "outputs": [
        {
          "output_type": "stream",
          "name": "stdout",
          "text": [
            "Epoch 1/60\n",
            "458/458 [==============================] - ETA: 0s - loss: 1.8269 - accuracy: 0.2956\n",
            "Epoch 1: val_accuracy improved from -inf to 0.34223, saving model to /content/drive/My Drive/539/final_cnn_model_checkpoint.h5\n",
            "458/458 [==============================] - 321s 671ms/step - loss: 1.8269 - accuracy: 0.2956 - val_loss: 1.6581 - val_accuracy: 0.3422\n",
            "Epoch 2/60\n",
            "458/458 [==============================] - ETA: 0s - loss: 1.5732 - accuracy: 0.3677\n",
            "Epoch 2: val_accuracy improved from 0.34223 to 0.41400, saving model to /content/drive/My Drive/539/final_cnn_model_checkpoint.h5\n",
            "458/458 [==============================] - 262s 571ms/step - loss: 1.5732 - accuracy: 0.3677 - val_loss: 1.4284 - val_accuracy: 0.4140\n",
            "Epoch 3/60\n",
            "458/458 [==============================] - ETA: 0s - loss: 1.4037 - accuracy: 0.4266\n",
            "Epoch 3: val_accuracy improved from 0.41400 to 0.43619, saving model to /content/drive/My Drive/539/final_cnn_model_checkpoint.h5\n",
            "458/458 [==============================] - 263s 574ms/step - loss: 1.4037 - accuracy: 0.4266 - val_loss: 1.3669 - val_accuracy: 0.4362\n",
            "Epoch 4/60\n",
            "458/458 [==============================] - ETA: 0s - loss: 1.3539 - accuracy: 0.4451\n",
            "Epoch 4: val_accuracy improved from 0.43619 to 0.48905, saving model to /content/drive/My Drive/539/final_cnn_model_checkpoint.h5\n",
            "458/458 [==============================] - 254s 554ms/step - loss: 1.3539 - accuracy: 0.4451 - val_loss: 1.2261 - val_accuracy: 0.4891\n",
            "Epoch 5/60\n",
            "458/458 [==============================] - ETA: 0s - loss: 1.1675 - accuracy: 0.5139\n",
            "Epoch 5: val_accuracy improved from 0.48905 to 0.51563, saving model to /content/drive/My Drive/539/final_cnn_model_checkpoint.h5\n",
            "458/458 [==============================] - 251s 547ms/step - loss: 1.1675 - accuracy: 0.5139 - val_loss: 1.1432 - val_accuracy: 0.5156\n",
            "Epoch 6/60\n",
            "458/458 [==============================] - ETA: 0s - loss: 1.0748 - accuracy: 0.5499\n",
            "Epoch 6: val_accuracy improved from 0.51563 to 0.55395, saving model to /content/drive/My Drive/539/final_cnn_model_checkpoint.h5\n",
            "458/458 [==============================] - 253s 551ms/step - loss: 1.0748 - accuracy: 0.5499 - val_loss: 1.0489 - val_accuracy: 0.5540\n",
            "Epoch 7/60\n",
            "458/458 [==============================] - ETA: 0s - loss: 1.0086 - accuracy: 0.5761\n",
            "Epoch 7: val_accuracy improved from 0.55395 to 0.57685, saving model to /content/drive/My Drive/539/final_cnn_model_checkpoint.h5\n",
            "458/458 [==============================] - 254s 554ms/step - loss: 1.0086 - accuracy: 0.5761 - val_loss: 1.0004 - val_accuracy: 0.5768\n",
            "Epoch 8/60\n",
            "458/458 [==============================] - ETA: 0s - loss: 0.9645 - accuracy: 0.5932\n",
            "Epoch 8: val_accuracy improved from 0.57685 to 0.58471, saving model to /content/drive/My Drive/539/final_cnn_model_checkpoint.h5\n",
            "458/458 [==============================] - 249s 544ms/step - loss: 0.9645 - accuracy: 0.5932 - val_loss: 0.9888 - val_accuracy: 0.5847\n",
            "Epoch 9/60\n",
            "458/458 [==============================] - ETA: 0s - loss: 0.9251 - accuracy: 0.6088\n",
            "Epoch 9: val_accuracy improved from 0.58471 to 0.60004, saving model to /content/drive/My Drive/539/final_cnn_model_checkpoint.h5\n",
            "458/458 [==============================] - 255s 555ms/step - loss: 0.9251 - accuracy: 0.6088 - val_loss: 0.9448 - val_accuracy: 0.6000\n",
            "Epoch 10/60\n",
            "458/458 [==============================] - ETA: 0s - loss: 0.8947 - accuracy: 0.6206\n",
            "Epoch 10: val_accuracy improved from 0.60004 to 0.60362, saving model to /content/drive/My Drive/539/final_cnn_model_checkpoint.h5\n",
            "458/458 [==============================] - 258s 564ms/step - loss: 0.8947 - accuracy: 0.6206 - val_loss: 0.9359 - val_accuracy: 0.6036\n",
            "Epoch 11/60\n",
            "458/458 [==============================] - ETA: 0s - loss: 0.8662 - accuracy: 0.6327\n",
            "Epoch 11: val_accuracy improved from 0.60362 to 0.60671, saving model to /content/drive/My Drive/539/final_cnn_model_checkpoint.h5\n",
            "458/458 [==============================] - 256s 559ms/step - loss: 0.8662 - accuracy: 0.6327 - val_loss: 0.9276 - val_accuracy: 0.6067\n",
            "Epoch 12/60\n",
            "458/458 [==============================] - ETA: 0s - loss: 0.8402 - accuracy: 0.6440\n",
            "Epoch 12: val_accuracy improved from 0.60671 to 0.60711, saving model to /content/drive/My Drive/539/final_cnn_model_checkpoint.h5\n",
            "458/458 [==============================] - 253s 551ms/step - loss: 0.8402 - accuracy: 0.6440 - val_loss: 0.9379 - val_accuracy: 0.6071\n",
            "Epoch 13/60\n",
            "458/458 [==============================] - ETA: 0s - loss: 0.8136 - accuracy: 0.6561\n",
            "Epoch 13: val_accuracy improved from 0.60711 to 0.61865, saving model to /content/drive/My Drive/539/final_cnn_model_checkpoint.h5\n",
            "458/458 [==============================] - 255s 557ms/step - loss: 0.8136 - accuracy: 0.6561 - val_loss: 0.9096 - val_accuracy: 0.6187\n",
            "Epoch 14/60\n",
            "458/458 [==============================] - ETA: 0s - loss: 0.7873 - accuracy: 0.6671\n",
            "Epoch 14: val_accuracy improved from 0.61865 to 0.62303, saving model to /content/drive/My Drive/539/final_cnn_model_checkpoint.h5\n",
            "458/458 [==============================] - 253s 551ms/step - loss: 0.7873 - accuracy: 0.6671 - val_loss: 0.9037 - val_accuracy: 0.6230\n",
            "Epoch 15/60\n",
            "458/458 [==============================] - ETA: 0s - loss: 0.7683 - accuracy: 0.6744\n",
            "Epoch 15: val_accuracy did not improve from 0.62303\n",
            "458/458 [==============================] - 255s 557ms/step - loss: 0.7683 - accuracy: 0.6744 - val_loss: 0.9105 - val_accuracy: 0.6199\n",
            "Epoch 16/60\n",
            "458/458 [==============================] - ETA: 0s - loss: 0.7427 - accuracy: 0.6860\n",
            "Epoch 16: val_accuracy improved from 0.62303 to 0.63508, saving model to /content/drive/My Drive/539/final_cnn_model_checkpoint.h5\n",
            "458/458 [==============================] - 258s 563ms/step - loss: 0.7427 - accuracy: 0.6860 - val_loss: 0.8792 - val_accuracy: 0.6351\n",
            "Epoch 17/60\n",
            "458/458 [==============================] - ETA: 0s - loss: 0.7237 - accuracy: 0.6944\n",
            "Epoch 17: val_accuracy did not improve from 0.63508\n",
            "458/458 [==============================] - 253s 551ms/step - loss: 0.7237 - accuracy: 0.6944 - val_loss: 0.8945 - val_accuracy: 0.6305\n",
            "Epoch 18/60\n",
            "458/458 [==============================] - ETA: 0s - loss: 0.7027 - accuracy: 0.7028\n",
            "Epoch 18: val_accuracy improved from 0.63508 to 0.63647, saving model to /content/drive/My Drive/539/final_cnn_model_checkpoint.h5\n",
            "458/458 [==============================] - 256s 558ms/step - loss: 0.7027 - accuracy: 0.7028 - val_loss: 0.8924 - val_accuracy: 0.6365\n",
            "Epoch 19/60\n",
            "458/458 [==============================] - ETA: 0s - loss: 0.6847 - accuracy: 0.7110\n",
            "Epoch 19: val_accuracy did not improve from 0.63647\n",
            "458/458 [==============================] - 251s 547ms/step - loss: 0.6847 - accuracy: 0.7110 - val_loss: 0.9217 - val_accuracy: 0.6238\n",
            "Epoch 20/60\n",
            "458/458 [==============================] - ETA: 0s - loss: 0.6721 - accuracy: 0.7170\n",
            "Epoch 20: val_accuracy did not improve from 0.63647\n",
            "458/458 [==============================] - 255s 555ms/step - loss: 0.6721 - accuracy: 0.7170 - val_loss: 0.9242 - val_accuracy: 0.6335\n",
            "Epoch 21/60\n",
            "458/458 [==============================] - ETA: 0s - loss: 0.6538 - accuracy: 0.7257\n",
            "Epoch 21: val_accuracy did not improve from 0.63647\n",
            "458/458 [==============================] - 254s 554ms/step - loss: 0.6538 - accuracy: 0.7257 - val_loss: 0.9125 - val_accuracy: 0.6344\n",
            "Epoch 22/60\n",
            "458/458 [==============================] - ETA: 0s - loss: 0.6375 - accuracy: 0.7324\n",
            "Epoch 22: val_accuracy improved from 0.63647 to 0.64553, saving model to /content/drive/My Drive/539/final_cnn_model_checkpoint.h5\n",
            "458/458 [==============================] - 255s 556ms/step - loss: 0.6375 - accuracy: 0.7324 - val_loss: 0.8956 - val_accuracy: 0.6455\n",
            "Epoch 23/60\n",
            "458/458 [==============================] - ETA: 0s - loss: 0.6176 - accuracy: 0.7407\n",
            "Epoch 23: val_accuracy did not improve from 0.64553\n",
            "458/458 [==============================] - 250s 546ms/step - loss: 0.6176 - accuracy: 0.7407 - val_loss: 0.9318 - val_accuracy: 0.6411\n",
            "Epoch 24/60\n",
            "458/458 [==============================] - ETA: 0s - loss: 0.6019 - accuracy: 0.7485\n",
            "Epoch 24: val_accuracy did not improve from 0.64553\n",
            "458/458 [==============================] - 253s 552ms/step - loss: 0.6019 - accuracy: 0.7485 - val_loss: 0.9509 - val_accuracy: 0.6357\n",
            "Epoch 25/60\n",
            "458/458 [==============================] - ETA: 0s - loss: 0.5806 - accuracy: 0.7581\n",
            "Epoch 25: val_accuracy improved from 0.64553 to 0.65041, saving model to /content/drive/My Drive/539/final_cnn_model_checkpoint.h5\n",
            "458/458 [==============================] - 253s 553ms/step - loss: 0.5806 - accuracy: 0.7581 - val_loss: 0.9308 - val_accuracy: 0.6504\n",
            "Epoch 26/60\n",
            "458/458 [==============================] - ETA: 0s - loss: 0.5661 - accuracy: 0.7647\n",
            "Epoch 26: val_accuracy improved from 0.65041 to 0.65091, saving model to /content/drive/My Drive/539/final_cnn_model_checkpoint.h5\n",
            "458/458 [==============================] - 253s 553ms/step - loss: 0.5661 - accuracy: 0.7647 - val_loss: 0.9380 - val_accuracy: 0.6509\n",
            "Epoch 27/60\n",
            "458/458 [==============================] - ETA: 0s - loss: 0.5559 - accuracy: 0.7687\n",
            "Epoch 27: val_accuracy improved from 0.65091 to 0.65767, saving model to /content/drive/My Drive/539/final_cnn_model_checkpoint.h5\n",
            "458/458 [==============================] - 255s 555ms/step - loss: 0.5559 - accuracy: 0.7687 - val_loss: 0.9193 - val_accuracy: 0.6577\n",
            "Epoch 28/60\n",
            "458/458 [==============================] - ETA: 0s - loss: 0.5416 - accuracy: 0.7752\n",
            "Epoch 28: val_accuracy did not improve from 0.65767\n",
            "458/458 [==============================] - 248s 541ms/step - loss: 0.5416 - accuracy: 0.7752 - val_loss: 0.9380 - val_accuracy: 0.6573\n",
            "Epoch 29/60\n",
            "458/458 [==============================] - ETA: 0s - loss: 0.5373 - accuracy: 0.7766\n",
            "Epoch 29: val_accuracy improved from 0.65767 to 0.66235, saving model to /content/drive/My Drive/539/final_cnn_model_checkpoint.h5\n",
            "458/458 [==============================] - 256s 558ms/step - loss: 0.5373 - accuracy: 0.7766 - val_loss: 0.9354 - val_accuracy: 0.6624\n",
            "Epoch 30/60\n",
            "458/458 [==============================] - ETA: 0s - loss: 0.5147 - accuracy: 0.7866\n",
            "Epoch 30: val_accuracy did not improve from 0.66235\n",
            "458/458 [==============================] - 256s 559ms/step - loss: 0.5147 - accuracy: 0.7866 - val_loss: 0.9660 - val_accuracy: 0.6576\n",
            "Epoch 31/60\n",
            "458/458 [==============================] - ETA: 0s - loss: 0.4924 - accuracy: 0.7969\n",
            "Epoch 31: val_accuracy did not improve from 0.66235\n",
            "458/458 [==============================] - 256s 558ms/step - loss: 0.4924 - accuracy: 0.7969 - val_loss: 1.0195 - val_accuracy: 0.6536\n",
            "Epoch 32/60\n",
            "458/458 [==============================] - ETA: 0s - loss: 0.4717 - accuracy: 0.8059\n",
            "Epoch 32: val_accuracy did not improve from 0.66235\n",
            "458/458 [==============================] - 257s 560ms/step - loss: 0.4717 - accuracy: 0.8059 - val_loss: 1.0612 - val_accuracy: 0.6533\n",
            "Epoch 33/60\n",
            "458/458 [==============================] - ETA: 0s - loss: 0.4572 - accuracy: 0.8132\n",
            "Epoch 33: val_accuracy did not improve from 0.66235\n",
            "458/458 [==============================] - 258s 563ms/step - loss: 0.4572 - accuracy: 0.8132 - val_loss: 1.1133 - val_accuracy: 0.6448\n",
            "Epoch 34/60\n",
            "458/458 [==============================] - ETA: 0s - loss: 0.4495 - accuracy: 0.8155\n",
            "Epoch 34: val_accuracy did not improve from 0.66235\n",
            "458/458 [==============================] - 257s 561ms/step - loss: 0.4495 - accuracy: 0.8155 - val_loss: 1.1042 - val_accuracy: 0.6472\n",
            "Epoch 35/60\n",
            "458/458 [==============================] - ETA: 0s - loss: 0.4440 - accuracy: 0.8176\n",
            "Epoch 35: val_accuracy did not improve from 0.66235\n",
            "458/458 [==============================] - 254s 554ms/step - loss: 0.4440 - accuracy: 0.8176 - val_loss: 1.1902 - val_accuracy: 0.6305\n",
            "Epoch 36/60\n",
            "458/458 [==============================] - ETA: 0s - loss: 0.4441 - accuracy: 0.8184\n",
            "Epoch 36: val_accuracy did not improve from 0.66235\n",
            "458/458 [==============================] - 262s 571ms/step - loss: 0.4441 - accuracy: 0.8184 - val_loss: 1.0342 - val_accuracy: 0.6620\n",
            "Epoch 37/60\n",
            "458/458 [==============================] - ETA: 0s - loss: 0.4442 - accuracy: 0.8175\n",
            "Epoch 37: val_accuracy did not improve from 0.66235\n",
            "458/458 [==============================] - 262s 572ms/step - loss: 0.4442 - accuracy: 0.8175 - val_loss: 1.0380 - val_accuracy: 0.6591\n",
            "Epoch 38/60\n",
            "458/458 [==============================] - ETA: 0s - loss: 0.4397 - accuracy: 0.8204\n",
            "Epoch 38: val_accuracy improved from 0.66235 to 0.66514, saving model to /content/drive/My Drive/539/final_cnn_model_checkpoint.h5\n",
            "458/458 [==============================] - 261s 570ms/step - loss: 0.4397 - accuracy: 0.8204 - val_loss: 1.0131 - val_accuracy: 0.6651\n",
            "Epoch 39/60\n",
            "458/458 [==============================] - ETA: 0s - loss: 0.4228 - accuracy: 0.8270\n",
            "Epoch 39: val_accuracy did not improve from 0.66514\n",
            "458/458 [==============================] - 259s 565ms/step - loss: 0.4228 - accuracy: 0.8270 - val_loss: 1.0804 - val_accuracy: 0.6640\n",
            "Epoch 40/60\n",
            "458/458 [==============================] - ETA: 0s - loss: 0.4053 - accuracy: 0.8350\n",
            "Epoch 40: val_accuracy improved from 0.66514 to 0.66743, saving model to /content/drive/My Drive/539/final_cnn_model_checkpoint.h5\n",
            "458/458 [==============================] - 257s 560ms/step - loss: 0.4053 - accuracy: 0.8350 - val_loss: 1.0790 - val_accuracy: 0.6674\n",
            "Epoch 41/60\n",
            "458/458 [==============================] - ETA: 0s - loss: 0.3852 - accuracy: 0.8431\n",
            "Epoch 41: val_accuracy improved from 0.66743 to 0.66763, saving model to /content/drive/My Drive/539/final_cnn_model_checkpoint.h5\n",
            "458/458 [==============================] - 254s 555ms/step - loss: 0.3852 - accuracy: 0.8431 - val_loss: 1.1109 - val_accuracy: 0.6676\n",
            "Epoch 42/60\n",
            "458/458 [==============================] - ETA: 0s - loss: 0.3668 - accuracy: 0.8517\n",
            "Epoch 42: val_accuracy did not improve from 0.66763\n",
            "458/458 [==============================] - 252s 550ms/step - loss: 0.3668 - accuracy: 0.8517 - val_loss: 1.1451 - val_accuracy: 0.6631\n",
            "Epoch 43/60\n",
            "458/458 [==============================] - ETA: 0s - loss: 0.3609 - accuracy: 0.8543\n",
            "Epoch 43: val_accuracy did not improve from 0.66763\n",
            "458/458 [==============================] - 254s 553ms/step - loss: 0.3609 - accuracy: 0.8543 - val_loss: 1.1776 - val_accuracy: 0.6620\n",
            "Epoch 44/60\n",
            "458/458 [==============================] - ETA: 0s - loss: 0.3615 - accuracy: 0.8535\n",
            "Epoch 44: val_accuracy did not improve from 0.66763\n",
            "458/458 [==============================] - 253s 551ms/step - loss: 0.3615 - accuracy: 0.8535 - val_loss: 1.2063 - val_accuracy: 0.6639\n",
            "Epoch 45/60\n",
            "458/458 [==============================] - ETA: 0s - loss: 0.3694 - accuracy: 0.8504\n",
            "Epoch 45: val_accuracy did not improve from 0.66763\n",
            "458/458 [==============================] - 249s 543ms/step - loss: 0.3694 - accuracy: 0.8504 - val_loss: 1.1859 - val_accuracy: 0.6667\n",
            "Epoch 46/60\n",
            "458/458 [==============================] - ETA: 0s - loss: 0.3745 - accuracy: 0.8484\n",
            "Epoch 46: val_accuracy improved from 0.66763 to 0.67549, saving model to /content/drive/My Drive/539/final_cnn_model_checkpoint.h5\n",
            "458/458 [==============================] - 255s 557ms/step - loss: 0.3745 - accuracy: 0.8484 - val_loss: 1.1851 - val_accuracy: 0.6755\n",
            "Epoch 47/60\n",
            "458/458 [==============================] - ETA: 0s - loss: 0.3711 - accuracy: 0.8500\n",
            "Epoch 47: val_accuracy did not improve from 0.67549\n",
            "458/458 [==============================] - 256s 557ms/step - loss: 0.3711 - accuracy: 0.8500 - val_loss: 1.2065 - val_accuracy: 0.6741\n",
            "Epoch 48/60\n",
            "458/458 [==============================] - ETA: 0s - loss: 0.3531 - accuracy: 0.8567\n",
            "Epoch 48: val_accuracy improved from 0.67549 to 0.67679, saving model to /content/drive/My Drive/539/final_cnn_model_checkpoint.h5\n",
            "458/458 [==============================] - 257s 561ms/step - loss: 0.3531 - accuracy: 0.8567 - val_loss: 1.2029 - val_accuracy: 0.6768\n",
            "Epoch 49/60\n",
            "458/458 [==============================] - ETA: 0s - loss: 0.3415 - accuracy: 0.8625\n",
            "Epoch 49: val_accuracy did not improve from 0.67679\n",
            "458/458 [==============================] - 253s 551ms/step - loss: 0.3415 - accuracy: 0.8625 - val_loss: 1.2753 - val_accuracy: 0.6696\n",
            "Epoch 50/60\n",
            "458/458 [==============================] - ETA: 0s - loss: 0.3145 - accuracy: 0.8742\n",
            "Epoch 50: val_accuracy did not improve from 0.67679\n",
            "458/458 [==============================] - 257s 560ms/step - loss: 0.3145 - accuracy: 0.8742 - val_loss: 1.3823 - val_accuracy: 0.6657\n",
            "Epoch 51/60\n",
            "458/458 [==============================] - ETA: 0s - loss: 0.2918 - accuracy: 0.8842\n",
            "Epoch 51: val_accuracy did not improve from 0.67679\n",
            "458/458 [==============================] - 254s 555ms/step - loss: 0.2918 - accuracy: 0.8842 - val_loss: 1.4315 - val_accuracy: 0.6646\n",
            "Epoch 52/60\n",
            "458/458 [==============================] - ETA: 0s - loss: 0.2855 - accuracy: 0.8866\n",
            "Epoch 52: val_accuracy did not improve from 0.67679\n",
            "458/458 [==============================] - 261s 569ms/step - loss: 0.2855 - accuracy: 0.8866 - val_loss: 1.4562 - val_accuracy: 0.6658\n",
            "Epoch 53/60\n",
            "458/458 [==============================] - ETA: 0s - loss: 0.2718 - accuracy: 0.8919\n",
            "Epoch 53: val_accuracy did not improve from 0.67679\n",
            "458/458 [==============================] - 258s 564ms/step - loss: 0.2718 - accuracy: 0.8919 - val_loss: 1.5801 - val_accuracy: 0.6661\n",
            "Epoch 54/60\n",
            "458/458 [==============================] - ETA: 0s - loss: 0.2674 - accuracy: 0.8933\n",
            "Epoch 54: val_accuracy did not improve from 0.67679\n",
            "458/458 [==============================] - 256s 558ms/step - loss: 0.2674 - accuracy: 0.8933 - val_loss: 1.6180 - val_accuracy: 0.6620\n",
            "Epoch 55/60\n",
            "458/458 [==============================] - ETA: 0s - loss: 0.2778 - accuracy: 0.8881\n",
            "Epoch 55: val_accuracy improved from 0.67679 to 0.68097, saving model to /content/drive/My Drive/539/final_cnn_model_checkpoint.h5\n",
            "458/458 [==============================] - 252s 549ms/step - loss: 0.2778 - accuracy: 0.8881 - val_loss: 1.4973 - val_accuracy: 0.6810\n",
            "Epoch 56/60\n",
            "458/458 [==============================] - ETA: 0s - loss: 0.2947 - accuracy: 0.8812\n",
            "Epoch 56: val_accuracy improved from 0.68097 to 0.68356, saving model to /content/drive/My Drive/539/final_cnn_model_checkpoint.h5\n",
            "458/458 [==============================] - 254s 553ms/step - loss: 0.2947 - accuracy: 0.8812 - val_loss: 1.3875 - val_accuracy: 0.6836\n",
            "Epoch 57/60\n",
            "458/458 [==============================] - ETA: 0s - loss: 0.3165 - accuracy: 0.8725\n",
            "Epoch 57: val_accuracy improved from 0.68356 to 0.68545, saving model to /content/drive/My Drive/539/final_cnn_model_checkpoint.h5\n",
            "458/458 [==============================] - 252s 550ms/step - loss: 0.3165 - accuracy: 0.8725 - val_loss: 1.3231 - val_accuracy: 0.6854\n",
            "Epoch 58/60\n",
            "458/458 [==============================] - ETA: 0s - loss: 0.3262 - accuracy: 0.8683\n",
            "Epoch 58: val_accuracy did not improve from 0.68545\n",
            "458/458 [==============================] - 251s 548ms/step - loss: 0.3262 - accuracy: 0.8683 - val_loss: 1.2985 - val_accuracy: 0.6834\n",
            "Epoch 59/60\n",
            "458/458 [==============================] - ETA: 0s - loss: 0.3121 - accuracy: 0.8732\n",
            "Epoch 59: val_accuracy did not improve from 0.68545\n",
            "458/458 [==============================] - 253s 552ms/step - loss: 0.3121 - accuracy: 0.8732 - val_loss: 1.4159 - val_accuracy: 0.6639\n",
            "Epoch 60/60\n",
            "458/458 [==============================] - ETA: 0s - loss: 0.2905 - accuracy: 0.8823\n",
            "Epoch 60: val_accuracy did not improve from 0.68545\n",
            "458/458 [==============================] - 256s 559ms/step - loss: 0.2905 - accuracy: 0.8823 - val_loss: 1.4771 - val_accuracy: 0.6585\n"
          ]
        }
      ]
    },
    {
      "cell_type": "code",
      "source": [
        "final_cnn.save(\"/content/drive/My Drive/539/new_combaug_age7_adam_mod.h5\")"
      ],
      "metadata": {
        "id": "Rr8GtL8vg-RC"
      },
      "execution_count": null,
      "outputs": []
    },
    {
      "cell_type": "code",
      "source": [
        "import plotly.graph_objects as go\n",
        "plt.clf()\n",
        "fig = go.Figure()\n",
        "fig.add_trace(go.Scattergl(\n",
        "                    y=final_cnn_history.history['accuracy'],\n",
        "                    name='Train'))\n",
        "fig.add_trace(go.Scattergl(\n",
        "                    y=final_cnn_history.history['val_accuracy'],\n",
        "                    name='Valid'))\n",
        "fig.update_layout(height=500, \n",
        "                  width=700,\n",
        "                  title='Accuracy for age feature',\n",
        "                  xaxis_title='Epoch',\n",
        "                  yaxis_title='Accuracy')\n",
        "fig.show()"
      ],
      "metadata": {
        "id": "pp0ggY2chEi4",
        "colab": {
          "base_uri": "https://localhost:8080/",
          "height": 534
        },
        "outputId": "bc37a304-7015-407c-de28-8d5dcd833a8b"
      },
      "execution_count": null,
      "outputs": [
        {
          "output_type": "display_data",
          "data": {
            "text/html": [
              "<html>\n",
              "<head><meta charset=\"utf-8\" /></head>\n",
              "<body>\n",
              "    <div>            <script src=\"https://cdnjs.cloudflare.com/ajax/libs/mathjax/2.7.5/MathJax.js?config=TeX-AMS-MML_SVG\"></script><script type=\"text/javascript\">if (window.MathJax) {MathJax.Hub.Config({SVG: {font: \"STIX-Web\"}});}</script>                <script type=\"text/javascript\">window.PlotlyConfig = {MathJaxConfig: 'local'};</script>\n",
              "        <script src=\"https://cdn.plot.ly/plotly-2.8.3.min.js\"></script>                <div id=\"00b807f1-b4b3-42bc-94c2-637c94f3d8d2\" class=\"plotly-graph-div\" style=\"height:500px; width:700px;\"></div>            <script type=\"text/javascript\">                                    window.PLOTLYENV=window.PLOTLYENV || {};                                    if (document.getElementById(\"00b807f1-b4b3-42bc-94c2-637c94f3d8d2\")) {                    Plotly.newPlot(                        \"00b807f1-b4b3-42bc-94c2-637c94f3d8d2\",                        [{\"name\":\"Train\",\"y\":[0.29556334018707275,0.36770614981651306,0.4265773594379425,0.44514739513397217,0.5139029622077942,0.5498528480529785,0.5760974287986755,0.5931999683380127,0.6087539196014404,0.6206433176994324,0.6327460408210754,0.6439571976661682,0.6561068296432495,0.667113184928894,0.6743952631950378,0.6859861016273499,0.6943517923355103,0.7027942538261414,0.7110191583633423,0.7170342803001404,0.7257497310638428,0.7323535680770874,0.74065101146698,0.7484919428825378,0.7580606341362,0.7646729946136475,0.7687427997589111,0.7752399444580078,0.7765965461730957,0.7866089344024658,0.7969498038291931,0.8058828711509705,0.813177764415741,0.8154857158660889,0.8176314830780029,0.8183737993240356,0.817507803440094,0.8204342722892761,0.8269783854484558,0.8349984884262085,0.843069851398468,0.8517383933067322,0.8543108105659485,0.8534576296806335,0.8503988981246948,0.848368227481842,0.8499594926834106,0.8566870093345642,0.8625442385673523,0.8742033243179321,0.884232759475708,0.886596143245697,0.8919457197189331,0.8933407068252563,0.8880721926689148,0.8812294602394104,0.8724883794784546,0.8683460354804993,0.8731581568717957,0.8823301196098328],\"type\":\"scattergl\"},{\"name\":\"Valid\",\"y\":[0.3422257602214813,0.413995623588562,0.4361934959888458,0.48905035853385925,0.5156280994415283,0.5539517998695374,0.5768464803695679,0.5847103595733643,0.6000398397445679,0.6036233305931091,0.6067091226577759,0.6071072816848755,0.618654191493988,0.6230340600013733,0.6199482083320618,0.6350786089897156,0.6304997205734253,0.636472225189209,0.6238303780555725,0.6334859728813171,0.6343818306922913,0.6455305814743042,0.641051173210144,0.6356759071350098,0.650408148765564,0.6509058475494385,0.6576746702194214,0.6572765111923218,0.6623531579971313,0.6575751304626465,0.6535934805870056,0.6532948613166809,0.6448337435722351,0.6472227573394775,0.6304997205734253,0.6619549989700317,0.6590682864189148,0.6651403307914734,0.6640453934669495,0.6674298048019409,0.6676288843154907,0.6631495356559753,0.6619549989700317,0.6639458537101746,0.6667330265045166,0.6754927039146423,0.6740991473197937,0.6767867803573608,0.6696197390556335,0.6657376289367676,0.6646426320075989,0.6658371686935425,0.6661357879638672,0.6619549989700317,0.6809675693511963,0.6835556626319885,0.6854469180107117,0.6833565831184387,0.6639458537101746,0.6584710478782654],\"type\":\"scattergl\"}],                        {\"template\":{\"data\":{\"bar\":[{\"error_x\":{\"color\":\"#2a3f5f\"},\"error_y\":{\"color\":\"#2a3f5f\"},\"marker\":{\"line\":{\"color\":\"#E5ECF6\",\"width\":0.5},\"pattern\":{\"fillmode\":\"overlay\",\"size\":10,\"solidity\":0.2}},\"type\":\"bar\"}],\"barpolar\":[{\"marker\":{\"line\":{\"color\":\"#E5ECF6\",\"width\":0.5},\"pattern\":{\"fillmode\":\"overlay\",\"size\":10,\"solidity\":0.2}},\"type\":\"barpolar\"}],\"carpet\":[{\"aaxis\":{\"endlinecolor\":\"#2a3f5f\",\"gridcolor\":\"white\",\"linecolor\":\"white\",\"minorgridcolor\":\"white\",\"startlinecolor\":\"#2a3f5f\"},\"baxis\":{\"endlinecolor\":\"#2a3f5f\",\"gridcolor\":\"white\",\"linecolor\":\"white\",\"minorgridcolor\":\"white\",\"startlinecolor\":\"#2a3f5f\"},\"type\":\"carpet\"}],\"choropleth\":[{\"colorbar\":{\"outlinewidth\":0,\"ticks\":\"\"},\"type\":\"choropleth\"}],\"contour\":[{\"colorbar\":{\"outlinewidth\":0,\"ticks\":\"\"},\"colorscale\":[[0.0,\"#0d0887\"],[0.1111111111111111,\"#46039f\"],[0.2222222222222222,\"#7201a8\"],[0.3333333333333333,\"#9c179e\"],[0.4444444444444444,\"#bd3786\"],[0.5555555555555556,\"#d8576b\"],[0.6666666666666666,\"#ed7953\"],[0.7777777777777778,\"#fb9f3a\"],[0.8888888888888888,\"#fdca26\"],[1.0,\"#f0f921\"]],\"type\":\"contour\"}],\"contourcarpet\":[{\"colorbar\":{\"outlinewidth\":0,\"ticks\":\"\"},\"type\":\"contourcarpet\"}],\"heatmap\":[{\"colorbar\":{\"outlinewidth\":0,\"ticks\":\"\"},\"colorscale\":[[0.0,\"#0d0887\"],[0.1111111111111111,\"#46039f\"],[0.2222222222222222,\"#7201a8\"],[0.3333333333333333,\"#9c179e\"],[0.4444444444444444,\"#bd3786\"],[0.5555555555555556,\"#d8576b\"],[0.6666666666666666,\"#ed7953\"],[0.7777777777777778,\"#fb9f3a\"],[0.8888888888888888,\"#fdca26\"],[1.0,\"#f0f921\"]],\"type\":\"heatmap\"}],\"heatmapgl\":[{\"colorbar\":{\"outlinewidth\":0,\"ticks\":\"\"},\"colorscale\":[[0.0,\"#0d0887\"],[0.1111111111111111,\"#46039f\"],[0.2222222222222222,\"#7201a8\"],[0.3333333333333333,\"#9c179e\"],[0.4444444444444444,\"#bd3786\"],[0.5555555555555556,\"#d8576b\"],[0.6666666666666666,\"#ed7953\"],[0.7777777777777778,\"#fb9f3a\"],[0.8888888888888888,\"#fdca26\"],[1.0,\"#f0f921\"]],\"type\":\"heatmapgl\"}],\"histogram\":[{\"marker\":{\"pattern\":{\"fillmode\":\"overlay\",\"size\":10,\"solidity\":0.2}},\"type\":\"histogram\"}],\"histogram2d\":[{\"colorbar\":{\"outlinewidth\":0,\"ticks\":\"\"},\"colorscale\":[[0.0,\"#0d0887\"],[0.1111111111111111,\"#46039f\"],[0.2222222222222222,\"#7201a8\"],[0.3333333333333333,\"#9c179e\"],[0.4444444444444444,\"#bd3786\"],[0.5555555555555556,\"#d8576b\"],[0.6666666666666666,\"#ed7953\"],[0.7777777777777778,\"#fb9f3a\"],[0.8888888888888888,\"#fdca26\"],[1.0,\"#f0f921\"]],\"type\":\"histogram2d\"}],\"histogram2dcontour\":[{\"colorbar\":{\"outlinewidth\":0,\"ticks\":\"\"},\"colorscale\":[[0.0,\"#0d0887\"],[0.1111111111111111,\"#46039f\"],[0.2222222222222222,\"#7201a8\"],[0.3333333333333333,\"#9c179e\"],[0.4444444444444444,\"#bd3786\"],[0.5555555555555556,\"#d8576b\"],[0.6666666666666666,\"#ed7953\"],[0.7777777777777778,\"#fb9f3a\"],[0.8888888888888888,\"#fdca26\"],[1.0,\"#f0f921\"]],\"type\":\"histogram2dcontour\"}],\"mesh3d\":[{\"colorbar\":{\"outlinewidth\":0,\"ticks\":\"\"},\"type\":\"mesh3d\"}],\"parcoords\":[{\"line\":{\"colorbar\":{\"outlinewidth\":0,\"ticks\":\"\"}},\"type\":\"parcoords\"}],\"pie\":[{\"automargin\":true,\"type\":\"pie\"}],\"scatter\":[{\"marker\":{\"colorbar\":{\"outlinewidth\":0,\"ticks\":\"\"}},\"type\":\"scatter\"}],\"scatter3d\":[{\"line\":{\"colorbar\":{\"outlinewidth\":0,\"ticks\":\"\"}},\"marker\":{\"colorbar\":{\"outlinewidth\":0,\"ticks\":\"\"}},\"type\":\"scatter3d\"}],\"scattercarpet\":[{\"marker\":{\"colorbar\":{\"outlinewidth\":0,\"ticks\":\"\"}},\"type\":\"scattercarpet\"}],\"scattergeo\":[{\"marker\":{\"colorbar\":{\"outlinewidth\":0,\"ticks\":\"\"}},\"type\":\"scattergeo\"}],\"scattergl\":[{\"marker\":{\"colorbar\":{\"outlinewidth\":0,\"ticks\":\"\"}},\"type\":\"scattergl\"}],\"scattermapbox\":[{\"marker\":{\"colorbar\":{\"outlinewidth\":0,\"ticks\":\"\"}},\"type\":\"scattermapbox\"}],\"scatterpolar\":[{\"marker\":{\"colorbar\":{\"outlinewidth\":0,\"ticks\":\"\"}},\"type\":\"scatterpolar\"}],\"scatterpolargl\":[{\"marker\":{\"colorbar\":{\"outlinewidth\":0,\"ticks\":\"\"}},\"type\":\"scatterpolargl\"}],\"scatterternary\":[{\"marker\":{\"colorbar\":{\"outlinewidth\":0,\"ticks\":\"\"}},\"type\":\"scatterternary\"}],\"surface\":[{\"colorbar\":{\"outlinewidth\":0,\"ticks\":\"\"},\"colorscale\":[[0.0,\"#0d0887\"],[0.1111111111111111,\"#46039f\"],[0.2222222222222222,\"#7201a8\"],[0.3333333333333333,\"#9c179e\"],[0.4444444444444444,\"#bd3786\"],[0.5555555555555556,\"#d8576b\"],[0.6666666666666666,\"#ed7953\"],[0.7777777777777778,\"#fb9f3a\"],[0.8888888888888888,\"#fdca26\"],[1.0,\"#f0f921\"]],\"type\":\"surface\"}],\"table\":[{\"cells\":{\"fill\":{\"color\":\"#EBF0F8\"},\"line\":{\"color\":\"white\"}},\"header\":{\"fill\":{\"color\":\"#C8D4E3\"},\"line\":{\"color\":\"white\"}},\"type\":\"table\"}]},\"layout\":{\"annotationdefaults\":{\"arrowcolor\":\"#2a3f5f\",\"arrowhead\":0,\"arrowwidth\":1},\"autotypenumbers\":\"strict\",\"coloraxis\":{\"colorbar\":{\"outlinewidth\":0,\"ticks\":\"\"}},\"colorscale\":{\"diverging\":[[0,\"#8e0152\"],[0.1,\"#c51b7d\"],[0.2,\"#de77ae\"],[0.3,\"#f1b6da\"],[0.4,\"#fde0ef\"],[0.5,\"#f7f7f7\"],[0.6,\"#e6f5d0\"],[0.7,\"#b8e186\"],[0.8,\"#7fbc41\"],[0.9,\"#4d9221\"],[1,\"#276419\"]],\"sequential\":[[0.0,\"#0d0887\"],[0.1111111111111111,\"#46039f\"],[0.2222222222222222,\"#7201a8\"],[0.3333333333333333,\"#9c179e\"],[0.4444444444444444,\"#bd3786\"],[0.5555555555555556,\"#d8576b\"],[0.6666666666666666,\"#ed7953\"],[0.7777777777777778,\"#fb9f3a\"],[0.8888888888888888,\"#fdca26\"],[1.0,\"#f0f921\"]],\"sequentialminus\":[[0.0,\"#0d0887\"],[0.1111111111111111,\"#46039f\"],[0.2222222222222222,\"#7201a8\"],[0.3333333333333333,\"#9c179e\"],[0.4444444444444444,\"#bd3786\"],[0.5555555555555556,\"#d8576b\"],[0.6666666666666666,\"#ed7953\"],[0.7777777777777778,\"#fb9f3a\"],[0.8888888888888888,\"#fdca26\"],[1.0,\"#f0f921\"]]},\"colorway\":[\"#636efa\",\"#EF553B\",\"#00cc96\",\"#ab63fa\",\"#FFA15A\",\"#19d3f3\",\"#FF6692\",\"#B6E880\",\"#FF97FF\",\"#FECB52\"],\"font\":{\"color\":\"#2a3f5f\"},\"geo\":{\"bgcolor\":\"white\",\"lakecolor\":\"white\",\"landcolor\":\"#E5ECF6\",\"showlakes\":true,\"showland\":true,\"subunitcolor\":\"white\"},\"hoverlabel\":{\"align\":\"left\"},\"hovermode\":\"closest\",\"mapbox\":{\"style\":\"light\"},\"paper_bgcolor\":\"white\",\"plot_bgcolor\":\"#E5ECF6\",\"polar\":{\"angularaxis\":{\"gridcolor\":\"white\",\"linecolor\":\"white\",\"ticks\":\"\"},\"bgcolor\":\"#E5ECF6\",\"radialaxis\":{\"gridcolor\":\"white\",\"linecolor\":\"white\",\"ticks\":\"\"}},\"scene\":{\"xaxis\":{\"backgroundcolor\":\"#E5ECF6\",\"gridcolor\":\"white\",\"gridwidth\":2,\"linecolor\":\"white\",\"showbackground\":true,\"ticks\":\"\",\"zerolinecolor\":\"white\"},\"yaxis\":{\"backgroundcolor\":\"#E5ECF6\",\"gridcolor\":\"white\",\"gridwidth\":2,\"linecolor\":\"white\",\"showbackground\":true,\"ticks\":\"\",\"zerolinecolor\":\"white\"},\"zaxis\":{\"backgroundcolor\":\"#E5ECF6\",\"gridcolor\":\"white\",\"gridwidth\":2,\"linecolor\":\"white\",\"showbackground\":true,\"ticks\":\"\",\"zerolinecolor\":\"white\"}},\"shapedefaults\":{\"line\":{\"color\":\"#2a3f5f\"}},\"ternary\":{\"aaxis\":{\"gridcolor\":\"white\",\"linecolor\":\"white\",\"ticks\":\"\"},\"baxis\":{\"gridcolor\":\"white\",\"linecolor\":\"white\",\"ticks\":\"\"},\"bgcolor\":\"#E5ECF6\",\"caxis\":{\"gridcolor\":\"white\",\"linecolor\":\"white\",\"ticks\":\"\"}},\"title\":{\"x\":0.05},\"xaxis\":{\"automargin\":true,\"gridcolor\":\"white\",\"linecolor\":\"white\",\"ticks\":\"\",\"title\":{\"standoff\":15},\"zerolinecolor\":\"white\",\"zerolinewidth\":2},\"yaxis\":{\"automargin\":true,\"gridcolor\":\"white\",\"linecolor\":\"white\",\"ticks\":\"\",\"title\":{\"standoff\":15},\"zerolinecolor\":\"white\",\"zerolinewidth\":2}}},\"height\":500,\"width\":700,\"title\":{\"text\":\"Accuracy for age feature\"},\"xaxis\":{\"title\":{\"text\":\"Epoch\"}},\"yaxis\":{\"title\":{\"text\":\"Accuracy\"}}},                        {\"responsive\": true}                    ).then(function(){\n",
              "                            \n",
              "var gd = document.getElementById('00b807f1-b4b3-42bc-94c2-637c94f3d8d2');\n",
              "var x = new MutationObserver(function (mutations, observer) {{\n",
              "        var display = window.getComputedStyle(gd).display;\n",
              "        if (!display || display === 'none') {{\n",
              "            console.log([gd, 'removed!']);\n",
              "            Plotly.purge(gd);\n",
              "            observer.disconnect();\n",
              "        }}\n",
              "}});\n",
              "\n",
              "// Listen for the removal of the full notebook cells\n",
              "var notebookContainer = gd.closest('#notebook-container');\n",
              "if (notebookContainer) {{\n",
              "    x.observe(notebookContainer, {childList: true});\n",
              "}}\n",
              "\n",
              "// Listen for the clearing of the current output cell\n",
              "var outputEl = gd.closest('.output');\n",
              "if (outputEl) {{\n",
              "    x.observe(outputEl, {childList: true});\n",
              "}}\n",
              "\n",
              "                        })                };                            </script>        </div>\n",
              "</body>\n",
              "</html>"
            ]
          },
          "metadata": {}
        },
        {
          "output_type": "display_data",
          "data": {
            "text/plain": [
              "<Figure size 432x288 with 0 Axes>"
            ]
          },
          "metadata": {}
        }
      ]
    },
    {
      "cell_type": "markdown",
      "source": [
        "# Evaluation"
      ],
      "metadata": {
        "id": "gXJDTR6paILK"
      }
    },
    {
      "cell_type": "code",
      "source": [
        "# predict one image\n",
        "from PIL import Image\n",
        "from tensorflow.keras.preprocessing import image\n",
        "from tensorflow.keras.preprocessing.image import load_img,img_to_array\n",
        "import numpy as np\n",
        "import tensorflow as tf\n",
        "\n",
        "from tensorflow.keras.models import load_model\n",
        "final_cnn = load_model('/content/drive/My Drive/539/comb_aug_age7_adam_mod.h5')\n",
        "final_cnn_score = final_cnn.evaluate(test_dataset, verbose=1)"
      ],
      "metadata": {
        "colab": {
          "base_uri": "https://localhost:8080/"
        },
        "id": "lU0GsogwbQ67",
        "outputId": "6261b11b-5301-4c71-d0d2-99d62947b4a2"
      },
      "execution_count": null,
      "outputs": [
        {
          "output_type": "stream",
          "name": "stdout",
          "text": [
            "20/20 [==============================] - 18s 400ms/step - loss: 1.4653 - accuracy: 0.7034\n"
          ]
        }
      ]
    },
    {
      "cell_type": "code",
      "source": [
        "# Printing the relevant score summary.\n",
        "\n",
        "final_cnn_labels = final_cnn.metrics_names\n",
        "print(f'CNN model {final_cnn_labels[0]} \\t\\t= {round(final_cnn_score[0], 3)}')\n",
        "print(f'CNN model {final_cnn_labels[1]} \\t= {round(final_cnn_score[1], 3)}')"
      ],
      "metadata": {
        "id": "52QkHS4mcCLu",
        "colab": {
          "base_uri": "https://localhost:8080/"
        },
        "outputId": "09c489ac-273b-4ee1-ecac-c107fd67cb8e"
      },
      "execution_count": null,
      "outputs": [
        {
          "output_type": "stream",
          "name": "stdout",
          "text": [
            "CNN model loss \t\t= 1.465\n",
            "CNN model accuracy \t= 0.703\n"
          ]
        }
      ]
    },
    {
      "cell_type": "code",
      "source": [
        "# Generating predictions from the model above.\n",
        "\n",
        "final_cnn_pred = final_cnn.predict(test_dataset)\n",
        "final_cnn_pred = final_cnn_pred.argmax(axis=-1)"
      ],
      "metadata": {
        "id": "nBw-CJknYtJf"
      },
      "execution_count": null,
      "outputs": []
    },
    {
      "cell_type": "code",
      "source": [
        "# Generating a confusion matrix based on above predictions.\n",
        "\n",
        "conf_mat = confusion_matrix(test_labels_list, final_cnn_pred)\n",
        "conf_mat"
      ],
      "metadata": {
        "colab": {
          "base_uri": "https://localhost:8080/"
        },
        "id": "qWuixrLkYx2J",
        "outputId": "1b94172e-18d8-48d3-c7c2-17b287231ecd"
      },
      "execution_count": null,
      "outputs": [
        {
          "output_type": "execute_result",
          "data": {
            "text/plain": [
              "array([[ 899,   44,    2,    3,    8,    0,    2],\n",
              "       [  62,  719,   36,    9,   17,    2,    0],\n",
              "       [   1,   61,  632,  171,   75,    1,    0],\n",
              "       [   2,   16,  102, 1166,  700,   19,    2],\n",
              "       [   1,   16,   52,  551, 2031,  148,    8],\n",
              "       [   0,   12,   10,   45,  506, 1028,   78],\n",
              "       [   0,    2,    4,    5,   35,  172,  591]])"
            ]
          },
          "metadata": {},
          "execution_count": 23
        }
      ]
    },
    {
      "cell_type": "code",
      "source": [
        "# Defining a function to plot the confusion matrix in a grid for easier visualization.\n",
        "\n",
        "def plot_confusion_matrix(cm, classes, normalize=False, title='Confusion Matrix', export_as='confusion_matrix', cmap=plt.cm.Blues):\n",
        "    \"\"\"\n",
        "    This function prints and plots the confusion matrix.\n",
        "    Normalization can be applied by setting `normalize=True`.\n",
        "    \"\"\"\n",
        "    if normalize:\n",
        "        cm = cm.astype('float') / cm.sum(axis=1)[:, np.newaxis]\n",
        "        print(\"Normalized confusion matrix\")\n",
        "    else:\n",
        "        print('Confusion matrix, without normalization')\n",
        "\n",
        "    # print(cm)\n",
        "\n",
        "    plt.imshow(cm, interpolation='nearest', cmap=cmap)\n",
        "    plt.title(title, fontsize=16)\n",
        "    plt.colorbar()\n",
        "    tick_marks = np.arange(len(classes))\n",
        "    plt.xticks(tick_marks, classes, rotation=45)\n",
        "    plt.yticks(tick_marks, classes)\n",
        "\n",
        "    fmt = '.2f' if normalize else 'd'\n",
        "    thresh = cm.max() / 2.\n",
        "    for i, j in itertools.product(range(cm.shape[0]), range(cm.shape[1])):\n",
        "        plt.text(j, i, format(cm[i, j], fmt), horizontalalignment=\"center\", color=\"white\" if cm[i, j] > thresh else \"black\")\n",
        "\n",
        "    plt.tight_layout()\n",
        "    plt.ylabel('True labels', fontsize=14)\n",
        "    plt.xlabel('Predicted labels', fontsize=14)\n",
        "\n",
        "    # Exporting plot image in PNG format.\n",
        "    plt.savefig(f'/content/drive/My Drive/539/{export_as}.png', bbox_inches='tight');"
      ],
      "metadata": {
        "id": "gW2u4KfJY-k3"
      },
      "execution_count": null,
      "outputs": []
    },
    {
      "cell_type": "code",
      "source": [
        "# Plotting the confusion matrix using the function defined above.\n",
        "\n",
        "cm_plot_labels = ['1-2', '3-9', '10-20', '21-27', '28-45', '46-65', '66-116']\n",
        "\n",
        "plt.figure(figsize=(16,8))\n",
        "plot_confusion_matrix(conf_mat, cm_plot_labels, normalize=True,\n",
        "                      title=\"Confusion Matrix based on predictions from CNN model\",\n",
        "                      export_as=\"final_cnn_conf_mat_norm\"\n",
        "                     )\n",
        "\n",
        "plt.show()"
      ],
      "metadata": {
        "colab": {
          "base_uri": "https://localhost:8080/",
          "height": 620
        },
        "id": "eeFPf8gKZB4d",
        "outputId": "466b78af-b0ac-4c87-a6ef-75b5ed49ed5e"
      },
      "execution_count": null,
      "outputs": [
        {
          "output_type": "stream",
          "name": "stdout",
          "text": [
            "Normalized confusion matrix\n"
          ]
        },
        {
          "output_type": "display_data",
          "data": {
            "text/plain": [
              "<Figure size 1152x576 with 2 Axes>"
            ],
            "image/png": "[encoded data removed]"
          },
          "metadata": {
            "needs_background": "light"
          }
        }
      ]
    },
    {
      "cell_type": "code",
      "source": [
        "# Plotting the confusion matrix using the function defined above.\n",
        "\n",
        "cm_plot_labels = ['1-2', '3-9', '10-20', '21-27', '28-45', '46-65', '66-116']\n",
        "\n",
        "plt.figure(figsize=(16,8))\n",
        "plot_confusion_matrix(conf_mat, cm_plot_labels, normalize=False,\n",
        "                      title=\"Confusion Matrix based on predictions from CNN model\",\n",
        "                      export_as=\"final_cnn_conf_mat\"\n",
        "                     )\n",
        "\n",
        "plt.show()"
      ],
      "metadata": {
        "colab": {
          "base_uri": "https://localhost:8080/",
          "height": 620
        },
        "id": "47rnC6gDZN47",
        "outputId": "337147ad-d002-4bd4-80e6-e1f4fc077e94"
      },
      "execution_count": null,
      "outputs": [
        {
          "output_type": "stream",
          "name": "stdout",
          "text": [
            "Confusion matrix, without normalization\n"
          ]
        },
        {
          "output_type": "display_data",
          "data": {
            "text/plain": [
              "<Figure size 1152x576 with 2 Axes>"
            ],
            "image/png": "[encoded data removed]"
          },
          "metadata": {
            "needs_background": "light"
          }
        }
      ]
    }
  ]
}